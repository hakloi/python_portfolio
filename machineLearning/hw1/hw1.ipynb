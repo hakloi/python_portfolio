{
 "cells": [
  {
   "cell_type": "code",
   "execution_count": 5,
   "metadata": {},
   "outputs": [
    {
     "name": "stdout",
     "output_type": "stream",
     "text": [
      "Amount of strings: \n",
      " 748\n",
      "The beginning of DS:  \n",
      "    Recency  Frequency  Monetary  Time  Class\n",
      "0        2         50     12500    98      1\n",
      "1        0         13      3250    28      1\n",
      "2        1         16      4000    35      1\n",
      "3        2         20      5000    45      1\n",
      "4        1         24      6000    77      0\n",
      "The ending of DS:  \n",
      "      Recency  Frequency  Monetary  Time  Class\n",
      "743       23          2       500    38      0\n",
      "744       21          2       500    52      0\n",
      "745       23          3       750    62      0\n",
      "746       39          1       250    39      0\n",
      "747       72          1       250    72      0\n",
      "Types of columns:  \n",
      " Recency      int64\n",
      "Frequency    int64\n",
      "Monetary     int64\n",
      "Time         int64\n",
      "Class        int64\n",
      "dtype: object\n",
      "Columns:  \n",
      " Index(['Recency', 'Frequency', 'Monetary', 'Time', 'Class'], dtype='object')\n",
      "\n",
      "Среднее значение по колонкам: \n",
      "\n",
      "Recency         9.506684\n",
      "Frequency       5.514706\n",
      "Monetary     1378.676471\n",
      "Time           34.282086\n",
      "Class           0.237968\n",
      "dtype: float64\n",
      "Минимальное значение по колонкам: \n",
      "\n",
      "Recency        0\n",
      "Frequency      1\n",
      "Monetary     250\n",
      "Time           2\n",
      "Class          0\n",
      "dtype: int64\n",
      "Максимальное значение по колонкам: \n",
      "\n",
      "Recency         74\n",
      "Frequency       50\n",
      "Monetary     12500\n",
      "Time            98\n",
      "Class            1\n",
      "dtype: int64\n"
     ]
    }
   ],
   "source": [
    "import pandas as pd\n",
    "from matplotlib import pyplot as plt\n",
    "import seaborn as sns\n",
    "import numpy as np\n",
    "## Download dataset\n",
    "data =  pd.read_csv(\"blood.csv\")\n",
    "## The main info about dataset\n",
    "print(\"Amount of strings: \\n\", len(data))\n",
    "print(\"The beginning of DS:  \\n\",data.head())\n",
    "print(\"The ending of DS:  \\n\",data.tail())\n",
    "print(\"Types of columns:  \\n\", data.dtypes)\n",
    "print(\"Columns:  \\n\", data.columns)\n",
    "\n",
    "print(\"\\nСреднее значение по колонкам: \\n\")\n",
    "print(data.mean())\n",
    "print(\"Минимальное значение по колонкам: \\n\")\n",
    "print(data.min())\n",
    "print(\"Максимальное значение по колонкам: \\n\")\n",
    "print(data.max())\n"
   ]
  },
  {
   "cell_type": "markdown",
   "metadata": {},
   "source": [
    "## Лаба 1. \n",
    "1. Выбрать интересующий Вас ДатаСет(например здесь https://www.kaggle.com/). +\n",
    "2. Создать ноутбук и загрузить туда Ваш дата сет+\n",
    "3. Bывести основную информацию о нем: колличество строк, начала дата сета, конец, типы колонок, список колонок, среднее-арифметическое по колонкам, мин, макс+"
   ]
  }
 ],
 "metadata": {
  "kernelspec": {
   "display_name": "Python 3",
   "language": "python",
   "name": "python3"
  },
  "language_info": {
   "codemirror_mode": {
    "name": "ipython",
    "version": 3
   },
   "file_extension": ".py",
   "mimetype": "text/x-python",
   "name": "python",
   "nbconvert_exporter": "python",
   "pygments_lexer": "ipython3",
   "version": "3.10.11"
  }
 },
 "nbformat": 4,
 "nbformat_minor": 2
}

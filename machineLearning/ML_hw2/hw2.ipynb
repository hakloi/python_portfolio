{
 "cells": [
  {
   "cell_type": "code",
   "execution_count": 24,
   "metadata": {},
   "outputs": [],
   "source": [
    "# Import libs\n",
    "import pandas as pd\n",
    "import numpy as np\n",
    "import matplotlib as plt\n",
    "import seaborn as sns"
   ]
  },
  {
   "cell_type": "code",
   "execution_count": 2,
   "metadata": {},
   "outputs": [],
   "source": [
    "# Download dataset\n",
    "## From the DAAG R package: \"The possum data frame consists of nine morphometric \n",
    "## measurements on each of 104 mountain brushtail possums, \n",
    "## trapped at seven sites from Southern Victoria to central Queensland.\"\n",
    "data =  pd.read_csv(\"possum.csv\")"
   ]
  },
  {
   "cell_type": "code",
   "execution_count": 5,
   "metadata": {},
   "outputs": [
    {
     "data": {
      "text/html": [
       "<div>\n",
       "<style scoped>\n",
       "    .dataframe tbody tr th:only-of-type {\n",
       "        vertical-align: middle;\n",
       "    }\n",
       "\n",
       "    .dataframe tbody tr th {\n",
       "        vertical-align: top;\n",
       "    }\n",
       "\n",
       "    .dataframe thead th {\n",
       "        text-align: right;\n",
       "    }\n",
       "</style>\n",
       "<table border=\"1\" class=\"dataframe\">\n",
       "  <thead>\n",
       "    <tr style=\"text-align: right;\">\n",
       "      <th></th>\n",
       "      <th>case</th>\n",
       "      <th>site</th>\n",
       "      <th>Pop</th>\n",
       "      <th>sex</th>\n",
       "      <th>age</th>\n",
       "      <th>hdlngth</th>\n",
       "      <th>skullw</th>\n",
       "      <th>totlngth</th>\n",
       "      <th>taill</th>\n",
       "      <th>footlgth</th>\n",
       "      <th>earconch</th>\n",
       "      <th>eye</th>\n",
       "      <th>chest</th>\n",
       "      <th>belly</th>\n",
       "    </tr>\n",
       "  </thead>\n",
       "  <tbody>\n",
       "    <tr>\n",
       "      <th>0</th>\n",
       "      <td>1</td>\n",
       "      <td>1</td>\n",
       "      <td>Vic</td>\n",
       "      <td>m</td>\n",
       "      <td>8.0</td>\n",
       "      <td>94.1</td>\n",
       "      <td>60.4</td>\n",
       "      <td>89.0</td>\n",
       "      <td>36.0</td>\n",
       "      <td>74.5</td>\n",
       "      <td>54.5</td>\n",
       "      <td>15.2</td>\n",
       "      <td>28.0</td>\n",
       "      <td>36.0</td>\n",
       "    </tr>\n",
       "    <tr>\n",
       "      <th>1</th>\n",
       "      <td>2</td>\n",
       "      <td>1</td>\n",
       "      <td>Vic</td>\n",
       "      <td>f</td>\n",
       "      <td>6.0</td>\n",
       "      <td>92.5</td>\n",
       "      <td>57.6</td>\n",
       "      <td>91.5</td>\n",
       "      <td>36.5</td>\n",
       "      <td>72.5</td>\n",
       "      <td>51.2</td>\n",
       "      <td>16.0</td>\n",
       "      <td>28.5</td>\n",
       "      <td>33.0</td>\n",
       "    </tr>\n",
       "    <tr>\n",
       "      <th>2</th>\n",
       "      <td>3</td>\n",
       "      <td>1</td>\n",
       "      <td>Vic</td>\n",
       "      <td>f</td>\n",
       "      <td>6.0</td>\n",
       "      <td>94.0</td>\n",
       "      <td>60.0</td>\n",
       "      <td>95.5</td>\n",
       "      <td>39.0</td>\n",
       "      <td>75.4</td>\n",
       "      <td>51.9</td>\n",
       "      <td>15.5</td>\n",
       "      <td>30.0</td>\n",
       "      <td>34.0</td>\n",
       "    </tr>\n",
       "    <tr>\n",
       "      <th>3</th>\n",
       "      <td>4</td>\n",
       "      <td>1</td>\n",
       "      <td>Vic</td>\n",
       "      <td>f</td>\n",
       "      <td>6.0</td>\n",
       "      <td>93.2</td>\n",
       "      <td>57.1</td>\n",
       "      <td>92.0</td>\n",
       "      <td>38.0</td>\n",
       "      <td>76.1</td>\n",
       "      <td>52.2</td>\n",
       "      <td>15.2</td>\n",
       "      <td>28.0</td>\n",
       "      <td>34.0</td>\n",
       "    </tr>\n",
       "    <tr>\n",
       "      <th>4</th>\n",
       "      <td>5</td>\n",
       "      <td>1</td>\n",
       "      <td>Vic</td>\n",
       "      <td>f</td>\n",
       "      <td>2.0</td>\n",
       "      <td>91.5</td>\n",
       "      <td>56.3</td>\n",
       "      <td>85.5</td>\n",
       "      <td>36.0</td>\n",
       "      <td>71.0</td>\n",
       "      <td>53.2</td>\n",
       "      <td>15.1</td>\n",
       "      <td>28.5</td>\n",
       "      <td>33.0</td>\n",
       "    </tr>\n",
       "  </tbody>\n",
       "</table>\n",
       "</div>"
      ],
      "text/plain": [
       "   case  site  Pop sex  age  hdlngth  skullw  totlngth  taill  footlgth  \\\n",
       "0     1     1  Vic   m  8.0     94.1    60.4      89.0   36.0      74.5   \n",
       "1     2     1  Vic   f  6.0     92.5    57.6      91.5   36.5      72.5   \n",
       "2     3     1  Vic   f  6.0     94.0    60.0      95.5   39.0      75.4   \n",
       "3     4     1  Vic   f  6.0     93.2    57.1      92.0   38.0      76.1   \n",
       "4     5     1  Vic   f  2.0     91.5    56.3      85.5   36.0      71.0   \n",
       "\n",
       "   earconch   eye  chest  belly  \n",
       "0      54.5  15.2   28.0   36.0  \n",
       "1      51.2  16.0   28.5   33.0  \n",
       "2      51.9  15.5   30.0   34.0  \n",
       "3      52.2  15.2   28.0   34.0  \n",
       "4      53.2  15.1   28.5   33.0  "
      ]
     },
     "execution_count": 5,
     "metadata": {},
     "output_type": "execute_result"
    }
   ],
   "source": [
    "## base info\n",
    "data.head()"
   ]
  },
  {
   "cell_type": "code",
   "execution_count": 8,
   "metadata": {},
   "outputs": [
    {
     "name": "stdout",
     "output_type": "stream",
     "text": [
      "Index(['case', 'site', 'Pop', 'sex', 'age', 'hdlngth', 'skullw', 'totlngth',\n",
      "       'taill', 'footlgth', 'earconch', 'eye', 'chest', 'belly'],\n",
      "      dtype='object')\n",
      "case          int64\n",
      "site          int64\n",
      "Pop          object\n",
      "sex          object\n",
      "age         float64\n",
      "hdlngth     float64\n",
      "skullw      float64\n",
      "totlngth    float64\n",
      "taill       float64\n",
      "footlgth    float64\n",
      "earconch    float64\n",
      "eye         float64\n",
      "chest       float64\n",
      "belly       float64\n",
      "dtype: object\n"
     ]
    }
   ],
   "source": [
    "print(data.columns) \n",
    "print(data.dtypes)"
   ]
  },
  {
   "cell_type": "code",
   "execution_count": 9,
   "metadata": {},
   "outputs": [
    {
     "name": "stdout",
     "output_type": "stream",
     "text": [
      "             case        site         age     hdlngth      skullw    totlngth  \\\n",
      "count  104.000000  104.000000  102.000000  104.000000  104.000000  104.000000   \n",
      "mean    52.500000    3.625000    3.833333   92.602885   56.883654   87.088462   \n",
      "std     30.166206    2.349086    1.909244    3.573349    3.113426    4.310549   \n",
      "min      1.000000    1.000000    1.000000   82.500000   50.000000   75.000000   \n",
      "25%     26.750000    1.000000    2.250000   90.675000   54.975000   84.000000   \n",
      "50%     52.500000    3.000000    3.000000   92.800000   56.350000   88.000000   \n",
      "75%     78.250000    6.000000    5.000000   94.725000   58.100000   90.000000   \n",
      "max    104.000000    7.000000    9.000000  103.100000   68.600000   96.500000   \n",
      "\n",
      "            taill    footlgth    earconch         eye       chest       belly  \n",
      "count  104.000000  103.000000  104.000000  104.000000  104.000000  104.000000  \n",
      "mean    37.009615   68.459223   48.130769   15.046154   27.000000   32.586538  \n",
      "std      1.959518    4.395306    4.109380    1.050374    2.045597    2.761949  \n",
      "min     32.000000   60.300000   40.300000   12.800000   22.000000   25.000000  \n",
      "25%     35.875000   64.600000   44.800000   14.400000   25.500000   31.000000  \n",
      "50%     37.000000   68.000000   46.800000   14.900000   27.000000   32.500000  \n",
      "75%     38.000000   72.500000   52.000000   15.725000   28.000000   34.125000  \n",
      "max     43.000000   77.900000   56.200000   17.800000   32.000000   40.000000  \n"
     ]
    }
   ],
   "source": [
    "print(data.describe())"
   ]
  },
  {
   "cell_type": "code",
   "execution_count": 15,
   "metadata": {},
   "outputs": [
    {
     "name": "stdout",
     "output_type": "stream",
     "text": [
      "site\n",
      "1    33\n",
      "7    18\n",
      "2    13\n",
      "5    13\n",
      "6    13\n",
      "3     7\n",
      "4     7\n",
      "Name: count, dtype: int64\n",
      "Pop\n",
      "other    58\n",
      "Vic      46\n",
      "Name: count, dtype: int64\n",
      "sex\n",
      "m    61\n",
      "f    43\n",
      "Name: count, dtype: int64\n"
     ]
    }
   ],
   "source": [
    "## категориальные признаки - не имеют численного представления; они могут иметь два уникальных значения (бинарные признаки)\n",
    "categorical_cols = ['site', 'Pop', 'sex']\n",
    "## Статистический анализ категориальных данных\n",
    "## df['your_column'].value_counts() — вернет количество уникальных совпадений в определенной колонке.\n",
    "for col in categorical_cols:\n",
    "    print(data[col].value_counts())"
   ]
  },
  {
   "cell_type": "code",
   "execution_count": 16,
   "metadata": {},
   "outputs": [
    {
     "name": "stdout",
     "output_type": "stream",
     "text": [
      "sex    f   m\n",
      "site        \n",
      "1     19  14\n",
      "2      5   8\n",
      "3      3   4\n",
      "4      2   5\n",
      "5      6   7\n",
      "6      4   9\n",
      "7      4  14\n"
     ]
    }
   ],
   "source": [
    "# Построение сводных таблиц\n",
    "pivot_table_site_sex = data.pivot_table(index='site', columns='sex', aggfunc='size', fill_value=0)\n",
    "print(pivot_table_site_sex)"
   ]
  },
  {
   "cell_type": "code",
   "execution_count": 17,
   "metadata": {},
   "outputs": [
    {
     "name": "stdout",
     "output_type": "stream",
     "text": [
      "sex\n",
      "m    58.653846\n",
      "f    41.346154\n",
      "Name: proportion, dtype: float64\n"
     ]
    }
   ],
   "source": [
    "## Процентное отношение записей по признаку 'sex'\n",
    "## -> нормализированные данные\n",
    "sex_percentages = data['sex'].value_counts(normalize=True) * 100\n",
    "print(sex_percentages)"
   ]
  },
  {
   "cell_type": "code",
   "execution_count": 33,
   "metadata": {},
   "outputs": [
    {
     "name": "stdout",
     "output_type": "stream",
     "text": [
      "   Pop sex  age  hdlngth  skullw\n",
      "2  Vic   f  6.0     94.0    60.0\n",
      "3  Vic   f  6.0     93.2    57.1\n",
      "4  Vic   f  2.0     91.5    56.3\n"
     ]
    }
   ],
   "source": [
    "# Сделаем выборку с помощью loc\n",
    "sample_loc = data.loc[2:4, ['Pop', 'sex', 'age', 'hdlngth', 'skullw']]\n",
    "print(sample_loc)"
   ]
  },
  {
   "cell_type": "code",
   "execution_count": 32,
   "metadata": {},
   "outputs": [
    {
     "name": "stdout",
     "output_type": "stream",
     "text": [
      "   age  hdlngth  skullw  totlngth  taill  footlgth  earconch   eye\n",
      "0  8.0     94.1    60.4      89.0   36.0      74.5      54.5  15.2\n",
      "1  6.0     92.5    57.6      91.5   36.5      72.5      51.2  16.0\n",
      "2  6.0     94.0    60.0      95.5   39.0      75.4      51.9  15.5\n",
      "3  6.0     93.2    57.1      92.0   38.0      76.1      52.2  15.2\n"
     ]
    }
   ],
   "source": [
    "# Сделаем выборку с помощью iloc\n",
    "sample_iloc = data.iloc[0:4, 4:12]\n",
    "print(sample_iloc)"
   ]
  },
  {
   "cell_type": "code",
   "execution_count": 36,
   "metadata": {},
   "outputs": [
    {
     "data": {
      "text/plain": [
       "<seaborn.axisgrid.PairGrid at 0x2062f173fd0>"
      ]
     },
     "execution_count": 36,
     "metadata": {},
     "output_type": "execute_result"
    },
    {
     "data": {
      "image/png": "[encoded data removed]",
      "text/plain": [
       "<Figure size 500x500 with 6 Axes>"
      ]
     },
     "metadata": {},
     "output_type": "display_data"
    }
   ],
   "source": [
    "sns.pairplot(data[['age', 'hdlngth']])"
   ]
  },
  {
   "cell_type": "code",
   "execution_count": 38,
   "metadata": {},
   "outputs": [
    {
     "data": {
      "text/plain": [
       "<Axes: xlabel='Pop', ylabel='count'>"
      ]
     },
     "execution_count": 38,
     "metadata": {},
     "output_type": "execute_result"
    },
    {
     "data": {
      "image/png": "[encoded data removed]",
      "text/plain": [
       "<Figure size 640x480 with 1 Axes>"
      ]
     },
     "metadata": {},
     "output_type": "display_data"
    }
   ],
   "source": [
    "sns.countplot(data=data, x='Pop')"
   ]
  }
 ],
 "metadata": {
  "kernelspec": {
   "display_name": "Python 3",
   "language": "python",
   "name": "python3"
  },
  "language_info": {
   "codemirror_mode": {
    "name": "ipython",
    "version": 3
   },
   "file_extension": ".py",
   "mimetype": "text/x-python",
   "name": "python",
   "nbconvert_exporter": "python",
   "pygments_lexer": "ipython3",
   "version": "3.10.11"
  }
 },
 "nbformat": 4,
 "nbformat_minor": 2
}

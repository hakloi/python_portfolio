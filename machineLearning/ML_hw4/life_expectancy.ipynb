{
 "cells": [
  {
   "cell_type": "code",
   "execution_count": null,
   "metadata": {},
   "outputs": [],
   "source": [
    "# This dataset contains information compiled by the World Health Organization \n",
    "# and the United Nations to track factors that affect life expectancy. \n",
    "# The data contains 2938 rows and 22 columns. The columns include: country, \n",
    "# year, developing status, adult mortality, life expectancy, infant deaths, \n",
    "# alcohol consumption per capita, country’s expenditure on health, immunization \n",
    "# coverage, BMI, deaths under 5-years-old, deaths due to HIV/AIDS, GDP, population, \n",
    "# body condition, income information and education.\n",
    "\n",
    "# https://www.kaggle.com/datasets/kumarajarshi/life-expectancy-who/data"
   ]
  }
 ],
 "metadata": {
  "kernelspec": {
   "display_name": "Python 3",
   "language": "python",
   "name": "python3"
  },
  "language_info": {
   "codemirror_mode": {
    "name": "ipython",
    "version": 3
   },
   "file_extension": ".py",
   "mimetype": "text/x-python",
   "name": "python",
   "nbconvert_exporter": "python",
   "pygments_lexer": "ipython3",
   "version": "3.10.11"
  }
 },
 "nbformat": 4,
 "nbformat_minor": 2
}

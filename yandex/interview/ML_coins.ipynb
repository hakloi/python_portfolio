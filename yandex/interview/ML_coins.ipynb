{
 "cells": [
  {
   "cell_type": "code",
   "execution_count": null,
   "id": "becc9613",
   "metadata": {
    "vscode": {
     "languageId": "plaintext"
    }
   },
   "outputs": [],
   "source": [
    "coins = []\n",
    "\n",
    "with open('coins.in', 'r') as f:\n",
    "    n = int(f.readline())\n",
    "    for i in range(n):\n",
    "        k, m = map(int, f.readline().split())\n",
    "        score = (m + 1) / (k + 2)\n",
    "        coins.append((score, i))\n",
    "\n",
    "coins.sort()\n",
    "print('\\n'.join(str(i) for _, i in coins))"
   ]
  },
  {
   "cell_type": "code",
   "execution_count": null,
   "id": "f32db6f7",
   "metadata": {
    "vscode": {
     "languageId": "plaintext"
    }
   },
   "outputs": [],
   "source": []
  }
 ],
 "metadata": {
  "language_info": {
   "name": "python"
  }
 },
 "nbformat": 4,
 "nbformat_minor": 5
}

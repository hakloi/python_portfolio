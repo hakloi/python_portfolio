{
 "cells": [
  {
   "cell_type": "code",
   "execution_count": 1,
   "metadata": {},
   "outputs": [],
   "source": [
    "import requests\n",
    "import pandas as pd\n",
    "from datetime import datetime"
   ]
  },
  {
   "cell_type": "code",
   "execution_count": 2,
   "metadata": {},
   "outputs": [],
   "source": [
    "api_key = \"5b2b73c6fb0f4202bd6e51132a657269\"\n",
    "base_url = \"https://api.binance.com/api/v3/klines\""
   ]
  },
  {
   "cell_type": "code",
   "execution_count": 3,
   "metadata": {},
   "outputs": [],
   "source": [
    "def to_milliseconds(date_str):\n",
    "    dt = datetime.strptime(date_str, \"%Y-%m-%d\")\n",
    "    return int(dt.timestamp() * 1000)\n",
    "\n",
    "def get_historical_data(symbol, start_date, end_date, interval='1d', limit=1000):\n",
    "    start_timestamp = to_milliseconds(start_date)\n",
    "    end_timestamp = to_milliseconds(end_date)\n",
    "    url = f\"{base_url}?symbol={symbol}&interval={interval}&startTime={start_timestamp}&endTime={end_timestamp}&limit={limit}\"\n",
    "    response = requests.get(url)\n",
    "    data = response.json()\n",
    "    df = pd.DataFrame(data, columns=[\"timestamp\", \"open\", \"high\", \"low\", \"close\", \"volume\", \"close_time\", \"quote_asset_volume\", \"number_of_trades\", \"taker_buy_base_asset_volume\", \"taker_buy_quote_asset_volume\", \"ignore\"])\n",
    "    df[\"date\"] = pd.to_datetime(df[\"timestamp\"], unit='ms')\n",
    "    df = df[[\"date\", \"open\", \"high\", \"low\", \"close\", \"volume\"]]\n",
    "    return df"
   ]
  },
  {
   "cell_type": "code",
   "execution_count": 4,
   "metadata": {},
   "outputs": [],
   "source": [
    "btc_data = get_historical_data('BTCUSDT', '2014-01-01', '2024-01-01')"
   ]
  },
  {
   "cell_type": "code",
   "execution_count": 5,
   "metadata": {},
   "outputs": [
    {
     "name": "stdout",
     "output_type": "stream",
     "text": [
      "        date           open           high            low          close  \\\n",
      "0 2017-08-17  4261.48000000  4485.39000000  4200.74000000  4285.08000000   \n",
      "1 2017-08-18  4285.08000000  4371.52000000  3938.77000000  4108.37000000   \n",
      "2 2017-08-19  4108.37000000  4184.69000000  3850.00000000  4139.98000000   \n",
      "3 2017-08-20  4120.98000000  4211.08000000  4032.62000000  4086.29000000   \n",
      "4 2017-08-21  4069.13000000  4119.62000000  3911.79000000  4016.00000000   \n",
      "\n",
      "          volume  \n",
      "0   795.15037700  \n",
      "1  1199.88826400  \n",
      "2   381.30976300  \n",
      "3   467.08302200  \n",
      "4   691.74306000  \n"
     ]
    }
   ],
   "source": [
    "# проверка\n",
    "print(btc_data.head())\n",
    "\n",
    "# сохраняем все данные \n",
    "btc_data.to_csv('btc_data.csv', index=False)"
   ]
  },
  {
   "cell_type": "code",
   "execution_count": null,
   "metadata": {},
   "outputs": [],
   "source": [
    "# годовые данные \n",
    "btc_data['year'] = btc_data['date'].dt.year\n",
    "btc_yearly_data = btc_data.groupby('year')['close'].last()"
   ]
  },
  {
   "cell_type": "code",
   "execution_count": null,
   "metadata": {},
   "outputs": [
    {
     "name": "stdout",
     "output_type": "stream",
     "text": [
      "Годовые доходности BTC:\n",
      "year\n",
      "2017          NaN\n",
      "2018   -73.003771\n",
      "2019    94.313376\n",
      "2020    22.453209\n",
      "Name: close, dtype: float64\n"
     ]
    }
   ],
   "source": [
    "btc_yearly_data = pd.to_numeric(btc_yearly_data, errors='coerce')\n",
    "btc_yearly_data = btc_yearly_data.dropna()\n",
    "btc_returns = btc_yearly_data.pct_change() * 100  \n",
    "\n",
    "# проверка \n",
    "print(f\"Годовые доходности BTC:\\n{btc_returns}\")"
   ]
  },
  {
   "cell_type": "code",
   "execution_count": 11,
   "metadata": {},
   "outputs": [],
   "source": [
    "# сохранение для BTC\n",
    "btc_returns.to_csv(\"btc_returns.csv\", header=True)"
   ]
  },
  {
   "cell_type": "code",
   "execution_count": 16,
   "metadata": {},
   "outputs": [],
   "source": [
    "ada_data = get_historical_data('ADAUSDT', '2017-09-01', '2024-01-01')\n",
    "ada_data[\"close\"] = pd.to_numeric(ada_data[\"close\"], errors='coerce')\n",
    "ada_data = ada_data.dropna()\n",
    "ada_yearly_data = ada_data.groupby(ada_data['date'].dt.year)['close'].last()  # Получаем цену на конец года\n",
    "ada_returns = ada_yearly_data.pct_change() * 100\n",
    "\n",
    "# сохранение ADA\n",
    "ada_returns.to_csv(\"ada_returns.csv\", header=True)"
   ]
  },
  {
   "cell_type": "code",
   "execution_count": null,
   "metadata": {},
   "outputs": [
    {
     "name": "stdout",
     "output_type": "stream",
     "text": [
      "BTC Returns:\n",
      " year\n",
      "2018   -73.003771\n",
      "2019    94.313376\n",
      "2020    22.453209\n",
      "Name: close, dtype: float64\n",
      "ADA Returns:\n",
      " date\n",
      "2019    -18.968920\n",
      "2020    452.024353\n",
      "2021     66.278813\n",
      "Name: close, dtype: float64\n"
     ]
    }
   ],
   "source": [
    "btc_returns = btc_returns.dropna()\n",
    "ada_returns = ada_returns.dropna()\n",
    "\n",
    "# сохраняем результаты в CSV (мы удалили все NAN так как данные были собраны неправильно)\n",
    "btc_returns.to_csv(\"btc_returns.csv\", header=True)\n",
    "ada_returns.to_csv(\"ada_returns.csv\", header=True)\n",
    "\n",
    "# проверка - года разные у обеих монет...\n",
    "print(\"BTC Returns:\\n\", btc_returns)\n",
    "print(\"ADA Returns:\\n\", ada_returns)"
   ]
  },
  {
   "cell_type": "code",
   "execution_count": null,
   "metadata": {},
   "outputs": [
    {
     "name": "stdout",
     "output_type": "stream",
     "text": [
      "Combined Returns:\n",
      "       BTC Returns  ADA Returns\n",
      "2019    94.313376   -18.968920\n",
      "2020    22.453209   452.024353\n"
     ]
    }
   ],
   "source": [
    "combined_returns = pd.DataFrame({\n",
    "    'BTC Returns': btc_returns,\n",
    "    'ADA Returns': ada_returns\n",
    "})\n",
    "\n",
    "# убираем годы, которые есть только у одной из монет\n",
    "combined_returns = combined_returns.dropna()\n",
    "\n",
    "combined_returns.to_csv(\"combined_returns.csv\", header=True)\n",
    "\n",
    "print(\"Combined Returns:\\n\", combined_returns)"
   ]
  }
 ],
 "metadata": {
  "kernelspec": {
   "display_name": "Python 3",
   "language": "python",
   "name": "python3"
  },
  "language_info": {
   "codemirror_mode": {
    "name": "ipython",
    "version": 3
   },
   "file_extension": ".py",
   "mimetype": "text/x-python",
   "name": "python",
   "nbconvert_exporter": "python",
   "pygments_lexer": "ipython3",
   "version": "3.10.11"
  }
 },
 "nbformat": 4,
 "nbformat_minor": 2
}

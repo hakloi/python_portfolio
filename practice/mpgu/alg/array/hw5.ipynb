{
 "cells": [
  {
   "cell_type": "code",
   "execution_count": null,
   "metadata": {},
   "outputs": [],
   "source": [
    "# Написать заметку об отличии dict в Python и map в С++\n",
    "# В чём разница принципа работы и методов"
   ]
  }
 ],
 "metadata": {
  "language_info": {
   "name": "python"
  }
 },
 "nbformat": 4,
 "nbformat_minor": 2
}

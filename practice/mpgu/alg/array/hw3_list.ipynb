{
 "cells": [
  {
   "cell_type": "code",
   "execution_count": null,
   "metadata": {},
   "outputs": [],
   "source": [
    "# Создать конспект по спискам(одномерным и двумерным)\n",
    "# создание, ввод, методы, пояснения"
   ]
  },
  {
   "cell_type": "code",
   "execution_count": 46,
   "metadata": {},
   "outputs": [
    {
     "name": "stdout",
     "output_type": "stream",
     "text": [
      "------------------------------------------------------Одномерные списки------------------------------------------------------\n"
     ]
    }
   ],
   "source": [
    "print(f'{'Одномерные списки':-^125}')"
   ]
  },
  {
   "cell_type": "code",
   "execution_count": 11,
   "metadata": {},
   "outputs": [
    {
     "name": "stdout",
     "output_type": "stream",
     "text": [
      "3\n",
      "hi\n"
     ]
    }
   ],
   "source": [
    "# Список - это изменяемая упорядоченная колекция элементов разных типов данных. \n",
    "# В списке существует инлексация, начинающаяся с 0.\n",
    "\n",
    "nums = [1, 2, 3]\n",
    "mixed = [\"hi\", 14, 100]\n",
    "\n",
    "print(nums[2])\n",
    "print(mixed[0])"
   ]
  },
  {
   "cell_type": "code",
   "execution_count": 12,
   "metadata": {},
   "outputs": [
    {
     "name": "stdout",
     "output_type": "stream",
     "text": [
      "[3, 2, 1]\n",
      "[14, 100]\n"
     ]
    }
   ],
   "source": [
    "# Срезы работают как на строках, так и на списках.\n",
    "print(nums[::-1])\n",
    "print(mixed[1:])"
   ]
  },
  {
   "cell_type": "code",
   "execution_count": 48,
   "metadata": {},
   "outputs": [
    {
     "name": "stdout",
     "output_type": "stream",
     "text": [
      "1\n",
      "5\n",
      "7\n",
      "2\n",
      "8\n"
     ]
    }
   ],
   "source": [
    "# Список можно показать по элементно:\n",
    "numbers = [1, 5, 7, 2, 8]\n",
    "for i in range(len(numbers)):\n",
    "    print(numbers[i])"
   ]
  },
  {
   "cell_type": "code",
   "execution_count": 49,
   "metadata": {},
   "outputs": [
    {
     "name": "stdout",
     "output_type": "stream",
     "text": [
      "1 5 7 2 8\n"
     ]
    }
   ],
   "source": [
    "# Также можно сделать это через * - распоковать список\n",
    "print(*numbers)"
   ]
  },
  {
   "cell_type": "code",
   "execution_count": 52,
   "metadata": {},
   "outputs": [
    {
     "name": "stdout",
     "output_type": "stream",
     "text": [
      "[1, 1, 1, 3, 5, 3]\n"
     ]
    }
   ],
   "source": [
    "# И, наконец, используя генератор:\n",
    "n = 6   \n",
    "lst = [int(input()) for _ in range(n)]  \n",
    "print(lst)"
   ]
  },
  {
   "cell_type": "code",
   "execution_count": 13,
   "metadata": {},
   "outputs": [
    {
     "name": "stdout",
     "output_type": "stream",
     "text": [
      "[1, 2, 3, 6, 4]\n"
     ]
    }
   ],
   "source": [
    "# Существует разница между методами и функциями.\n",
    "# Метод - воз-ся к конкретной переменной, а также меняет эту переменную:\n",
    "nums.append(6)\n",
    "nums.append(4)\n",
    "print(nums)"
   ]
  },
  {
   "cell_type": "code",
   "execution_count": 17,
   "metadata": {},
   "outputs": [
    {
     "name": "stdout",
     "output_type": "stream",
     "text": [
      "Функция: [0, 1, 2, 3, 4, 6, 7]\n",
      "Список после sorted(): [2, 4, 1, 6, 7, 3, 0]\n",
      "Список после .sort(): [0, 1, 2, 3, 4, 6, 7]\n"
     ]
    }
   ],
   "source": [
    "# Функция же не меняет переменную. Посмотрим на примере sorted() - функция, .sort - метод\n",
    "random = [2, 4, 1, 6, 7, 3, 0]\n",
    "\n",
    "print(f\"Функция: {sorted(random)}\")\n",
    "print(f\"Список после sorted(): {random}\")\n",
    "random.sort()\n",
    "print(f\"Список после .sort(): {random}\")"
   ]
  },
  {
   "cell_type": "code",
   "execution_count": 19,
   "metadata": {},
   "outputs": [
    {
     "name": "stdout",
     "output_type": "stream",
     "text": [
      "True\n",
      "False\n"
     ]
    }
   ],
   "source": [
    "# Возвращает True, если в списке s есть элемент x. Иначе False\n",
    "s = [12, 16, 14, 23]\n",
    "x = 12\n",
    "\n",
    "print(x in s)\n",
    "print(x not in s)"
   ]
  },
  {
   "cell_type": "code",
   "execution_count": 20,
   "metadata": {},
   "outputs": [
    {
     "name": "stdout",
     "output_type": "stream",
     "text": [
      "Конкатенация списков: [12, 16, 14, 23, 7, 6, 8]\n",
      "Дублирование списков: [7, 6, 8, 7, 6, 8]\n"
     ]
    }
   ],
   "source": [
    "t = [7, 6, 8]\n",
    "res = s + t\n",
    "print(f\"Конкатенация списков: {res}\")\n",
    "\n",
    "n = 2\n",
    "print(f\"Дублирование списков: {t * n}\")"
   ]
  },
  {
   "cell_type": "code",
   "execution_count": 23,
   "metadata": {},
   "outputs": [
    {
     "name": "stdout",
     "output_type": "stream",
     "text": [
      "Список: [12, 16, 14, 23]\n",
      "Длина списка: 4\n",
      "Минимальный элемент: 12\n",
      "Максимальный элемент: 23\n",
      "0\n"
     ]
    }
   ],
   "source": [
    "# Возвращает длину списка s\n",
    "print(f\"Список: {s}\")\n",
    "print(f\"Длина списка: {len(s)}\")\n",
    "\n",
    "# Возвращает минимальный элемент списка\n",
    "print(f\"Минимальный элемент: {min(s)}\")\n",
    "\n",
    "# Возвращает максимальный элемент списка\n",
    "print(f\"Максимальный элемент: {max(s)}\")\n",
    "\n",
    "# Возвращает индекс первого найденного элемента x. Вызывается исключение ValueError, если элемент не найден\n",
    "# print(s.index(26))\n",
    "print(s.index(12))"
   ]
  },
  {
   "cell_type": "code",
   "execution_count": 24,
   "metadata": {},
   "outputs": [
    {
     "name": "stdout",
     "output_type": "stream",
     "text": [
      "4\n"
     ]
    }
   ],
   "source": [
    "# Возвращает количество элементов x\n",
    "duble_list = [1, 1, 1, 1, 5]\n",
    "print(duble_list.count(1))"
   ]
  },
  {
   "cell_type": "code",
   "execution_count": 25,
   "metadata": {},
   "outputs": [
    {
     "name": "stdout",
     "output_type": "stream",
     "text": [
      "[1, 1, 1, 1, 5, 12]\n",
      "[]\n"
     ]
    }
   ],
   "source": [
    "# Добавляет элемент x в конец списка\n",
    "duble_list.append(12)\n",
    "print(duble_list)\n",
    "\n",
    "# Удаляет все элементы списка\n",
    "duble_list.clear()\n",
    "print(duble_list)"
   ]
  },
  {
   "cell_type": "code",
   "execution_count": 34,
   "metadata": {},
   "outputs": [
    {
     "name": "stdout",
     "output_type": "stream",
     "text": [
      "Список s: [12, 16, 14, 23]\n",
      "Список new_list: [12, 16, 14, 23]\n"
     ]
    }
   ],
   "source": [
    "# s.copy()\n",
    "\n",
    "# Возвращает копию списка\n",
    "new_list = s.copy()\n",
    "print(f\"Список s: {s}\")\n",
    "print(f\"Список new_list: {new_list}\")"
   ]
  },
  {
   "cell_type": "code",
   "execution_count": 35,
   "metadata": {},
   "outputs": [
    {
     "name": "stdout",
     "output_type": "stream",
     "text": [
      "Список new_list: [12, 16, 14, 23, 7, 6, 8]\n",
      "[12, 16, 'insert', 14, 23, 7, 6, 8]\n",
      "[12, 16, 14, 23, 7, 6, 8]\n",
      "[16, 14, 23, 7, 6, 8]\n"
     ]
    }
   ],
   "source": [
    "# Расширяет список элементами списка t\n",
    "new_list.extend(t)\n",
    "print(f\"Список new_list: {new_list}\")\n",
    "\n",
    "# Вставляет элемент x в список по индексу i\n",
    "new_list.insert(2, 'insert')\n",
    "print(new_list)\n",
    "\n",
    "# Возвращает и удаляет элемент с индексом i. Если i не указан, то возвращается и удаляется последний элемент\n",
    "new_list.pop(2)\n",
    "print(new_list)\n",
    "new_list.pop(0)\n",
    "print(new_list)"
   ]
  },
  {
   "cell_type": "code",
   "execution_count": 36,
   "metadata": {},
   "outputs": [
    {
     "name": "stdout",
     "output_type": "stream",
     "text": [
      "[1, 3, 2, 1]\n"
     ]
    }
   ],
   "source": [
    "# Удаляет первый элемент со значением x\n",
    "\n",
    "new = [1, 2, 3, 2, 1]\n",
    "new.remove(2)\n",
    "print(new)"
   ]
  },
  {
   "cell_type": "code",
   "execution_count": 37,
   "metadata": {},
   "outputs": [
    {
     "name": "stdout",
     "output_type": "stream",
     "text": [
      "[3, 2, 1]\n"
     ]
    }
   ],
   "source": [
    "# Меняет порядок элементов списка на противоположный (переворачивает список)\n",
    "rev = [1, 2, 3]\n",
    "rev.reverse()\n",
    "print(rev)"
   ]
  },
  {
   "cell_type": "code",
   "execution_count": 41,
   "metadata": {},
   "outputs": [
    {
     "name": "stdout",
     "output_type": "stream",
     "text": [
      "[4, 8, 9, 2, 3, 1]\n",
      "[1, 2, 3, 4, 8, 9]\n",
      "[4, 8, 9, 2, 3, 1]\n",
      "[1, 2, 3, 4, 8, 9]\n"
     ]
    }
   ],
   "source": [
    "# Сортирует список по возрастанию, меняя исходный список. \n",
    "b = [4, 8, 9, 2, 3, 1]\n",
    "print(b)\n",
    "print(sorted(b))\n",
    "print(b)\n",
    "b.sort()\n",
    "print(b)"
   ]
  },
  {
   "cell_type": "code",
   "execution_count": 53,
   "metadata": {},
   "outputs": [
    {
     "name": "stdout",
     "output_type": "stream",
     "text": [
      "------------------------------------------------------Двумерные списки-------------------------------------------------------\n"
     ]
    }
   ],
   "source": [
    "print(f\"{'Двумерные списки':-^125}\")"
   ]
  },
  {
   "cell_type": "code",
   "execution_count": 54,
   "metadata": {},
   "outputs": [],
   "source": [
    "# Двумерные списки - это, говоря языком программистов, список, который имеет список в элементах.\n",
    "# А в свою очередь, для математических операций, это матрица."
   ]
  },
  {
   "cell_type": "code",
   "execution_count": 55,
   "metadata": {},
   "outputs": [
    {
     "name": "stdout",
     "output_type": "stream",
     "text": [
      "[[1, 0], [0, 1]]\n"
     ]
    }
   ],
   "source": [
    "matrix = [[1, 0], \n",
    "          [0, 1]]\n",
    "print(matrix)"
   ]
  },
  {
   "cell_type": "code",
   "execution_count": 58,
   "metadata": {},
   "outputs": [
    {
     "name": "stdout",
     "output_type": "stream",
     "text": [
      "3\n",
      "[[12, 2, 3], [4, 5, 6], [7, 8, 9]]\n"
     ]
    }
   ],
   "source": [
    "matrix = [[1, 2, 3], \n",
    "          [4, 5, 6], \n",
    "          [7, 8, 9]]\n",
    "\n",
    "# Обращение к элементам\n",
    "print(matrix[0][2])  # (первый ряд, третий элемент)\n",
    "\n",
    "# Изменение значения\n",
    "matrix[0][0] = 12\n",
    "print(matrix)  "
   ]
  },
  {
   "cell_type": "code",
   "execution_count": 60,
   "metadata": {},
   "outputs": [
    {
     "name": "stdout",
     "output_type": "stream",
     "text": [
      "[12, 2, 3]\n",
      "[4, 5, 6]\n",
      "[7, 8, 9]\n",
      "12 2 3 4 5 6 7 8 9 "
     ]
    }
   ],
   "source": [
    "# По строкам\n",
    "for row in matrix:\n",
    "    print(row)\n",
    "\n",
    "# По жлементам строк\n",
    "for row in matrix:\n",
    "    for elem in row:\n",
    "        print(elem, end=\" \")\n"
   ]
  },
  {
   "cell_type": "code",
   "execution_count": 61,
   "metadata": {},
   "outputs": [
    {
     "name": "stdout",
     "output_type": "stream",
     "text": [
      "---------------------------------------------------------Генераторы----------------------------------------------------------\n"
     ]
    }
   ],
   "source": [
    "print(f\"{'Генераторы':-^125}\")"
   ]
  },
  {
   "cell_type": "code",
   "execution_count": 62,
   "metadata": {},
   "outputs": [
    {
     "name": "stdout",
     "output_type": "stream",
     "text": [
      "[1, 3, 6, 7, 9]\n",
      "[2, 6, 12, 14, 18]\n"
     ]
    }
   ],
   "source": [
    "# Генератор - это способ создать список на основе уже существующего. \n",
    "# Ранее я уже показывала пример в одномерных списках\n",
    "\n",
    "gen = [1, 3, 6, 7, 9]\n",
    "new_gen = [x * 2 for x in gen]\n",
    "print(gen)\n",
    "print(new_gen)"
   ]
  }
 ],
 "metadata": {
  "kernelspec": {
   "display_name": "Python 3",
   "language": "python",
   "name": "python3"
  },
  "language_info": {
   "codemirror_mode": {
    "name": "ipython",
    "version": 3
   },
   "file_extension": ".py",
   "mimetype": "text/x-python",
   "name": "python",
   "nbconvert_exporter": "python",
   "pygments_lexer": "ipython3",
   "version": "3.12.4"
  }
 },
 "nbformat": 4,
 "nbformat_minor": 2
}
